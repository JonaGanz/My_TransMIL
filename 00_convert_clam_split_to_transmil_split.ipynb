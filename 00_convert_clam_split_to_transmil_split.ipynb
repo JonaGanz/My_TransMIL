{
 "cells": [
  {
   "cell_type": "code",
   "execution_count": 1,
   "metadata": {},
   "outputs": [],
   "source": [
    "import pandas as pd\n",
    "import os"
   ]
  },
  {
   "cell_type": "code",
   "execution_count": 9,
   "metadata": {},
   "outputs": [],
   "source": [
    "path_to_splits = 'dataset_csv/splits_MEN'\n",
    "labels_file = 'dataset_csv/labels_MEN.csv'\n",
    "out_path = 'dataset_csv/splits_Men_transmil_format'"
   ]
  },
  {
   "cell_type": "code",
   "execution_count": 10,
   "metadata": {},
   "outputs": [],
   "source": [
    "labels = pd.read_csv(labels_file)\n",
    "for i in range(10):\n",
    "    df = pd.read_csv(os.path.join(path_to_splits, 'splits_'+str(i)+'.csv'))\n",
    "    # get train, val and test files from the split\n",
    "    train = list(df['train'].dropna().values)\n",
    "    val = list(df['val'].dropna().values)\n",
    "    test = list(df['test'].dropna().values)\n",
    "    # get the labels for the train, val and test files\n",
    "    train_l = [list(set(labels.query(f'slide_id == \"{file}\"').label.unique()))[0] for  file in train]\n",
    "    val_l = [list(set(labels.query(f'slide_id == \"{file}\"').label.unique()))[0] for  file in val]\n",
    "    test_l = [list(set(labels.query(f'slide_id == \"{file}\"').label.unique()))[0] for  file in test]\n",
    "    new_df = pd.DataFrame([train, train_l, val, val_l, test, test_l]).T\n",
    "    new_df.columns = ['train', 'train_label', 'val', 'val_label', 'test', 'test_label']\n",
    "    new_df.to_csv(os.path.join(out_path, 'splits_'+str(i)+'.csv'))\n",
    "    "
   ]
  }
 ],
 "metadata": {
  "kernelspec": {
   "display_name": "transmil",
   "language": "python",
   "name": "python3"
  },
  "language_info": {
   "codemirror_mode": {
    "name": "ipython",
    "version": 3
   },
   "file_extension": ".py",
   "mimetype": "text/x-python",
   "name": "python",
   "nbconvert_exporter": "python",
   "pygments_lexer": "ipython3",
   "version": "3.10.14"
  }
 },
 "nbformat": 4,
 "nbformat_minor": 2
}
