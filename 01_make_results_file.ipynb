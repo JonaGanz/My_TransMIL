{
 "cells": [
  {
   "cell_type": "code",
   "execution_count": 1,
   "metadata": {},
   "outputs": [],
   "source": [
    "import pickle\n",
    "import pandas as pd\n",
    "from pathlib import Path"
   ]
  },
  {
   "cell_type": "code",
   "execution_count": 2,
   "metadata": {},
   "outputs": [],
   "source": [
    "path_to_results = 'logs/MEN/MEN_transpath'\n",
    "out_path = 'logs/MEN/MEN_transpath/results'\n",
    "split = 'test'\n",
    "k = 5\n",
    "\n",
    "\n",
    "for i in range(k):\n",
    "    with open(Path(path_to_results)/f\"fold{i}/result.pkl\", 'rb') as f:\n",
    "        data = pickle.load(f)\n",
    "        \n",
    "        out = {}\n",
    "        for res in data:\n",
    "            out[res['slide_id']] = {\n",
    "                'preds':res['logits'].cpu(),\n",
    "                'label':int(res['label'].cpu())\n",
    "            }\n",
    "        with open(Path(out_path)/f\"fold_{i}_{split}_df.p\", 'wb') as f:\n",
    "            pickle.dump(out, f)\n"
   ]
  }
 ],
 "metadata": {
  "kernelspec": {
   "display_name": "clam_latest",
   "language": "python",
   "name": "python3"
  },
  "language_info": {
   "codemirror_mode": {
    "name": "ipython",
    "version": 3
   },
   "file_extension": ".py",
   "mimetype": "text/x-python",
   "name": "python",
   "nbconvert_exporter": "python",
   "pygments_lexer": "ipython3",
   "version": "3.1.undefined"
  }
 },
 "nbformat": 4,
 "nbformat_minor": 2
}
